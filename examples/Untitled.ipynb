{
 "cells": [
  {
   "cell_type": "code",
   "execution_count": null,
   "metadata": {},
   "outputs": [],
   "source": [
    "*** Settings ***\n",
    "\n",
    "Library  String\n",
    "\n",
    "*** Variables ***\n",
    "\n",
    "${VARNAME}  Hello World\n",
    "\n",
    "*** Test Cases ***\n",
    "\n",
    "Test variable name\n",
    "    ${LOWER} =  Convert To Lower Case    ${VARNAME}\n",
    "    Should Be Lowercase   ${LOWER}\n",
    "    Should start with  ${LOWER}  hello"
   ]
  }
 ],
 "metadata": {
  "kernelspec": {
   "display_name": "XRobot",
   "language": "text",
   "name": "echo"
  },
  "language_info": {
   "file_extension": ".txt",
   "mimetype": "text/plain",
   "name": "Any text"
  }
 },
 "nbformat": 4,
 "nbformat_minor": 4
}
