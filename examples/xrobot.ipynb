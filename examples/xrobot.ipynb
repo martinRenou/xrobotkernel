{
 "cells": [
  {
   "cell_type": "code",
   "execution_count": null,
   "metadata": {},
   "outputs": [],
   "source": [
    "*** Settings ***\n",
    "\n",
    "Library  String\n",
    "\n",
    "*** Variables ***\n",
    "\n",
    "${VARNAME}  Hello World"
   ]
  },
  {
   "cell_type": "code",
   "execution_count": null,
   "metadata": {},
   "outputs": [],
   "source": [
    "*** Test Cases ***\n",
    "\n",
    "Test variable name\n",
    "    ${LOWER} =  Convert To Lower Case    ${VARNAME}\n",
    "    Should Be Lowercase   ${LOWER}\n",
    "    Should start with  ${LOWER}  hello"
   ]
  },
  {
   "cell_type": "code",
   "execution_count": null,
   "metadata": {},
   "outputs": [],
   "source": [
    "*** Test Cases ***\n",
    "\n",
    "Test variable name should fail\n",
    "    Should start with  ${VARNAME}  Coucou"
   ]
  },
  {
   "cell_type": "code",
   "execution_count": null,
   "metadata": {},
   "outputs": [],
   "source": []
  }
 ],
 "metadata": {
  "kernelspec": {
   "display_name": "XRobot",
   "language": "text",
   "name": "echo"
  },
  "language_info": {
   "file_extension": ".robot",
   "mimetype": "text/plain",
   "name": "robot"
  }
 },
 "nbformat": 4,
 "nbformat_minor": 4
}
